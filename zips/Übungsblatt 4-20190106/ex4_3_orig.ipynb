{
 "cells": [
  {
   "cell_type": "markdown",
   "metadata": {},
   "source": [
    "# Aufgabe 3: Inverse Filterung\n",
    "Ist der einem aufgenommenen Bild $g$ zugrundeliegende Störfunktion $h$ und dessen Fouriertransformierte $H$ bekannt, so kann mittels *inverser Filterung* das Originalbild\n",
    "\\begin{align}\n",
    "  \\widehat{F}(u, v) &= \\frac{G(u,v)}{H(u,v)}\n",
    "\\end{align}\n",
    "rekonstruiert werden.\n",
    "Dabei ist\n",
    "\\begin{align}\n",
    "  \\widehat{F}(u, v) &= F(u,v) + \\frac{N(u,v)}{H(u,v)}\n",
    "\\end{align}\n",
    "weiterhin durch einen unbekannten additiven Rauschprozess $n$ gestört.\n",
    "\n",
    "Modellieren Sie einen selbstgewählten Störprozess (beispielsweise die durch Bewegung der Kamera während der Bildaufnahme erzeugte Unschärfe und atmosphärische Störungen, siehe Vorlesungsfolien) und simulieren Sie dessen Auswirkungen auf einigen Beispielbildern!\n",
    "Versuchen Sie nun, mittels inverser Filterung das Originalbild zu rekonstruieren!\n",
    "Wiederholen Sie diesen Versuch mit verschiedenen - dem eigentlichen Störprozess einhergehenden - Rauschprozessen und variieren Sie deren Intensitäten!\n",
    "Beschreiben und erklären Sie Ihre Beobachtungen!"
   ]
  },
  {
   "cell_type": "markdown",
   "metadata": {},
   "source": [
    "## 0. Pfade, Pakete etc."
   ]
  },
  {
   "cell_type": "code",
   "execution_count": null,
   "metadata": {},
   "outputs": [],
   "source": [
    "import glob\n",
    "import urllib.request\n",
    "\n",
    "%matplotlib notebook\n",
    "import matplotlib.pyplot as plt\n",
    "import matplotlib.colors as mcolors\n",
    "\n",
    "import imageio\n",
    "import numpy as np\n",
    "\n",
    "import math"
   ]
  },
  {
   "cell_type": "code",
   "execution_count": null,
   "metadata": {},
   "outputs": [],
   "source": [
    "image_filter = 'Bilder/*.jpg'"
   ]
  },
  {
   "cell_type": "markdown",
   "metadata": {},
   "source": [
    "## 1. Definition der Störprozesse"
   ]
  },
  {
   "cell_type": "markdown",
   "metadata": {},
   "source": [
    "Definieren Sie den **Störprozess** als Funktion $H$ der Koordinaten $(u,v)$ im Frequenzbereich. Tipp: Verwenden Sie normalisierte Werte $\\in [-1,1]$!"
   ]
  },
  {
   "cell_type": "code",
   "execution_count": null,
   "metadata": {},
   "outputs": [],
   "source": [
    "H = lambda u,v: ..."
   ]
  },
  {
   "cell_type": "markdown",
   "metadata": {},
   "source": [
    "Geben Sie nun einen additiven **Rauschprozess** als Funktion $N$ an, die ebenfalls im Frequenzbereich vorliegt."
   ]
  },
  {
   "cell_type": "code",
   "execution_count": null,
   "metadata": {},
   "outputs": [],
   "source": [
    "N = lambda u,v: np.complex(...)"
   ]
  },
  {
   "cell_type": "markdown",
   "metadata": {},
   "source": [
    "## 2. Laden des Bildes"
   ]
  },
  {
   "cell_type": "code",
   "execution_count": null,
   "metadata": {},
   "outputs": [],
   "source": [
    "image_path = np.random.choice(glob.glob(image_filter))\n",
    "image = imageio.imread(image_path)"
   ]
  },
  {
   "cell_type": "markdown",
   "metadata": {},
   "source": [
    "Für diese Aufgabe ist es wichtig, das Bild im Fließkommaformat vorliegen zu haben. Andernfalls kann der Median nicht immer korrekt berechent werden. Konvertieren sie `image` zu einer geeigneten Repräsentation:"
   ]
  },
  {
   "cell_type": "code",
   "execution_count": null,
   "metadata": {},
   "outputs": [],
   "source": []
  },
  {
   "cell_type": "markdown",
   "metadata": {},
   "source": [
    "## 3. Simulation der Störung"
   ]
  },
  {
   "cell_type": "markdown",
   "metadata": {},
   "source": [
    "Wir definieren zunächst eine Hilfsfunktion `ex4_apply_noise`, die ein Originalbild $f$ mit den Prozessen $H$ und $N$ stört und das gestörte Bild $g$ sowie die Fouriertransformierte $G$ zurückgibt:"
   ]
  },
  {
   "cell_type": "code",
   "execution_count": null,
   "metadata": {},
   "outputs": [],
   "source": [
    "def ex4_apply_noise(f, H, N):\n",
    "    # Fouriertransformation\n",
    "    F = np.fft.fftshift(np.fft.fft2(f))\n",
    "    \n",
    "    G = np.zeros_like(F)\n",
    "    \n",
    "    for u, v in np.ndindex(*f.shape):\n",
    "        u_ = 2 * (float(u) / f.shape[0]) - 1.0\n",
    "        v_ = 2 * (float(v) / f.shape[1]) - 1.0\n",
    "        \n",
    "        # Anwendung des Prozesses N und H\n",
    "        G[u,v] = F[u,v] * H(u_, v_) + N(u_, v_)\n",
    "    \n",
    "    g = np.real(np.fft.ifft2(np.fft.ifftshift(G)))\n",
    "    return G, g"
   ]
  },
  {
   "cell_type": "markdown",
   "metadata": {},
   "source": [
    "Die Funktion wird nun eingesetzt, um das Bild einmal nur durch $H$ und einmal durch $H$ und $N$ zu stören."
   ]
  },
  {
   "cell_type": "code",
   "execution_count": null,
   "metadata": {},
   "outputs": [],
   "source": [
    "G1, g1 = ex4_apply_noise(image, H, lambda u, v: 0)  # Störung nur durch H, N ist 0\n",
    "G2, g2 = ex4_apply_noise(image, H, N)"
   ]
  },
  {
   "cell_type": "markdown",
   "metadata": {},
   "source": [
    "Visualisieren Sie `image`, `g1` und `g2` nebeneinander:"
   ]
  },
  {
   "cell_type": "code",
   "execution_count": null,
   "metadata": {},
   "outputs": [],
   "source": []
  },
  {
   "cell_type": "markdown",
   "metadata": {},
   "source": [
    "## 4. Rekonstruktion\n",
    "Es soll nun versucht werden, das Originalbild $f$ aus `g1` und `g2` mittels inverser Filterung wiederherzustellen. Dazu definieren wir zunächst eine Funktion `ex4_inverse_filter`, die mit Hilfe der Gleichung (1) eine solche durchführt und das entstörte Bild $f'$ zurückgibt. Dabei ist diesmal allerdings nur $H$ bekannt:"
   ]
  },
  {
   "cell_type": "code",
   "execution_count": null,
   "metadata": {},
   "outputs": [],
   "source": [
    "def ex4_inverse_filter(g, H):\n",
    "    ...\n",
    "    return f_"
   ]
  },
  {
   "cell_type": "markdown",
   "metadata": {},
   "source": [
    "Die Funktion wird jetzt für `g1` und `g2` aufgerufen:"
   ]
  },
  {
   "cell_type": "code",
   "execution_count": null,
   "metadata": {},
   "outputs": [],
   "source": [
    "f1_ = ex4_inverse_filter(g1, H)\n",
    "f2_ = ex4_inverse_filter(g2, H)"
   ]
  },
  {
   "cell_type": "markdown",
   "metadata": {},
   "source": [
    "Visualisieren Sie nun das Originalbild `image` neben den Rekonstruktionen `f1_` und `f2_`:"
   ]
  },
  {
   "cell_type": "code",
   "execution_count": null,
   "metadata": {},
   "outputs": [],
   "source": []
  }
 ],
 "metadata": {
  "kernelspec": {
   "display_name": "Python 3",
   "language": "python",
   "name": "python3"
  },
  "language_info": {
   "codemirror_mode": {
    "name": "ipython",
    "version": 3
   },
   "file_extension": ".py",
   "mimetype": "text/x-python",
   "name": "python",
   "nbconvert_exporter": "python",
   "pygments_lexer": "ipython3",
   "version": "3.6.5"
  }
 },
 "nbformat": 4,
 "nbformat_minor": 2
}
