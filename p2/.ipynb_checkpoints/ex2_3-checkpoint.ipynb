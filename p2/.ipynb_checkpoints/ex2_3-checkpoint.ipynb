{
 "cells": [
  {
   "cell_type": "markdown",
   "metadata": {},
   "source": [
    "# Aufgabe 3: Faltung\n",
    "Ein wichtiger Basisalgorithmus in der Bildverarbeitung ist die diskrete Faltung\n",
    "\\begin{align}\n",
    " \\boldsymbol{I}_A(i,j) = (\\boldsymbol{I} * \\boldsymbol{A})(i, j) = \\sum_{h=-\\lfloor \\frac{m}{2} \\rfloor}^{ \\lfloor \\frac{m}{2} \\rfloor} \\sum_{k=-\\lfloor \\frac{n}{2} \\rfloor}^{ \\lfloor \\frac{n}{2} \\rfloor} \\boldsymbol{A}(h,k) \\cdot \\boldsymbol{I}(i-h, j-k).\n",
    " \\label{eqn:lin_filt}\n",
    "\\end{align}\n",
    "\n",
    "Hierbei wird eine Faltungsmaske $\\boldsymbol{A} \\in \\mathbb{R}^{m \\times n}$ verwendet und über das Eingabebild $\\boldsymbol{I}$ \"geschoben\".\n",
    "Dabei wird für jedes Pixel des Eingabebildes eine mit den korrespondierenden Einträgen der Faltungsmaske gewichtete Linearkombination der Nachbarschaftspixel berechnet.\n",
    "Verschiedene Faltungsmasken haben dabei unterschiedliche Auswirkungen auf das Bild.\n",
    "\n",
    "Eine einfache Faltungsmaske ist z.~B. der Mittelwertfilter $\\boldsymbol{A}_\\text{avg}$, der für eine\n",
    "Größe $m=n=3$ die folgende Form hat:\n",
    "\n",
    "\\begin{equation}\n",
    " \\boldsymbol{A}_\\text{avg} = \\frac{1}{9} \\left(\\begin{array}{ccc}1&1&1\\\\1&1&1\\\\1&1&1\\end{array}\\right).\n",
    "\\end{equation}\n",
    "\n",
    "Schreiben Sie eine Python-Funktion, die diesen Mittelwertfilter auf ein Bild anwendet!\n",
    "Achten Sie bei der Implementierung darauf, dass die Faltungsmaske $\\boldsymbol{A}$ leicht ausgetauscht werden kann!\n",
    "Überlegen Sie sich ein Vorgehen bei der Behandlung der an den Bildrändern gelegenen Pixeln!"
   ]
  },
  {
   "cell_type": "markdown",
   "metadata": {},
   "source": [
    "## 0. Pfade, Pakete etc."
   ]
  },
  {
   "cell_type": "code",
   "execution_count": 1,
   "metadata": {},
   "outputs": [],
   "source": [
    "import glob\n",
    "import urllib.request\n",
    "\n",
    "%matplotlib notebook\n",
    "import matplotlib.pyplot as plt\n",
    "\n",
    "import imageio\n",
    "import numpy as np"
   ]
  },
  {
   "cell_type": "code",
   "execution_count": 2,
   "metadata": {},
   "outputs": [],
   "source": [
    "image_filter = '../material/Bilder/*.jpg'"
   ]
  },
  {
   "cell_type": "markdown",
   "metadata": {},
   "source": [
    "## 1. Definition der Faltungsmaske\n",
    "Definieren Sie hier die Faltungsmaske `A_avg` für den Mittelwertfilter!"
   ]
  },
  {
   "cell_type": "code",
   "execution_count": 3,
   "metadata": {},
   "outputs": [],
   "source": [
    "A_avg = 1/9 * np.ones(shape=(3, 3))"
   ]
  },
  {
   "cell_type": "markdown",
   "metadata": {},
   "source": [
    "## 2. Laden des Bildes"
   ]
  },
  {
   "cell_type": "code",
   "execution_count": 4,
   "metadata": {},
   "outputs": [],
   "source": [
    "image_path = np.random.choice(glob.glob(image_filter))\n",
    "image = imageio.imread(image_path)"
   ]
  },
  {
   "cell_type": "markdown",
   "metadata": {},
   "source": [
    "Für diese Aufgabe ist es wichtig, das Bild im Fließkommaformat vorliegen zu haben. Konvertieren sie `image` zu einer geeigneten Repräsentation:"
   ]
  },
  {
   "cell_type": "code",
   "execution_count": null,
   "metadata": {},
   "outputs": [],
   "source": [
    "image = np.asarray(image, dtype=np.float32) / 255"
   ]
  },
  {
   "cell_type": "markdown",
   "metadata": {},
   "source": [
    "## 3. Berechung der Faltung\n",
    "Definieren Sie eine Funktion `ex2_convolve`, die ein Bild sowie eine Faltungsmaske übergeben bekommt und als Rückgabewert das gefaltete Bild liefert. Denken Sie an ein sinnvolles Vorgehen zur Behandlung der Bildränder."
   ]
  },
  {
   "cell_type": "markdown",
   "metadata": {},
   "source": [
    "OutputWidth=(Width−FilterWidth+2Padding)/Stride+1, where we have Stride=1 and FilterWidth=filter_mask.shape[0]\n",
    "\n",
    "since OutputWidth=Width, we have Padding = (FilterWidth - 1) / 2"
   ]
  },
  {
   "cell_type": "code",
   "execution_count": null,
   "metadata": {},
   "outputs": [],
   "source": [
    "def ex2_convolve(image, filter_mask):\n",
    "    convolved_image = np.zeros_like(image)\n",
    "    filter_mask = np.asarray(filter_mask)\n",
    "    \n",
    "    padding_size_x = int(np.rint((filter_mask.shape[0] - 1) / 2))\n",
    "    padding_size_y = int(np.rint((filter_mask.shape[1] - 1) / 2))\n",
    "    \n",
    "    padded_image = np.pad(image, ((padding_size_x, padding_size_y), (padding_size_x, padding_size_y)), mode='constant', constant_values=0)\n",
    "    \n",
    "    for j in range(0, image.shape[1]):\n",
    "        for i in range(0, image.shape[0]):\n",
    "            if (i+filter_mask.shape[0] <= padded_image.shape[0] and j+filter_mask.shape[1] <= padded_image.shape[1]):\n",
    "                area = image[i:i+filter_mask.shape[0], j:j+filter_mask.shape[1]]\n",
    "                for i_y in range(0, area.shape[1]):\n",
    "                    for i_x in range(0, area.shape[0]):\n",
    "                        convolved_image[i, j] += area[i_x, i_y] * filter_mask[i_x, i_y]\n",
    "    return convolved_image"
   ]
  },
  {
   "cell_type": "markdown",
   "metadata": {},
   "source": [
    "Nun wird das gefaltete Bild mit Hilfe der Funktion berechnet:"
   ]
  },
  {
   "cell_type": "code",
   "execution_count": null,
   "metadata": {
    "scrolled": true
   },
   "outputs": [],
   "source": [
    "convolved_image = ex2_convolve(image, A_avg)"
   ]
  },
  {
   "cell_type": "markdown",
   "metadata": {},
   "source": [
    "## 4. Darstellung\n",
    "Um die Wirksamkeit der Faltung zu überprüfen, stellen Sie `image` und `convolved_image` nebeneinander dar:"
   ]
  },
  {
   "cell_type": "code",
   "execution_count": null,
   "metadata": {},
   "outputs": [],
   "source": [
    "fig, axs = plt.subplots(nrows=1, ncols=2, sharex=True)\n",
    "axs[0].imshow(image, cmap='gray')\n",
    "axs[0].set_title('Original image')\n",
    "\n",
    "axs[1].imshow(convolved_image, cmap='gray')\n",
    "axs[1].set_title('Convolved image')"
   ]
  }
 ],
 "metadata": {
  "kernelspec": {
   "display_name": "Python 3",
   "language": "python",
   "name": "python3"
  },
  "language_info": {
   "codemirror_mode": {
    "name": "ipython",
    "version": 3
   },
   "file_extension": ".py",
   "mimetype": "text/x-python",
   "name": "python",
   "nbconvert_exporter": "python",
   "pygments_lexer": "ipython3",
   "version": "3.6.7"
  }
 },
 "nbformat": 4,
 "nbformat_minor": 2
}
