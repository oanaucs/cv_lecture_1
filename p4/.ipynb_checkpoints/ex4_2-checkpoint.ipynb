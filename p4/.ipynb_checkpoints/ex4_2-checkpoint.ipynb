{
 "cells": [
  {
   "cell_type": "markdown",
   "metadata": {},
   "source": [
    "# Aufgabe 2: Adaptiver Medianfilter\n",
    "Der Medianfilter aus der vorangegangenen Aufgabe eignet sich besonders, um *Salt-and-Pepper-Rauschen* zu beseitigen.\n",
    "Scharfe Kanten werden zwar erhalten, Ecken jedoch gestört.\n",
    "Eine Erweiterung, die noch spezieller auf die Rauschelimination ausgerichtet ist und dabei Ecken weniger beschädigen soll, ist der *adaptive Medianfilter*.\n",
    "\n",
    "Dabei werden nicht nur Median $z_{med}$, sondern auch minimaler $z_{min}$ und maximaler Grauwert $z_{max}$ sowie der aktuelle Grauwert $z_{xy}$ eines Fensters berücksichtigt.\n",
    "Folgender Algorithmus wird angewendet:\n",
    "\n",
    "```\n",
    "Level A:\n",
    "   A1 = zmed - zmin\n",
    "   A2 = zmed - zmax\n",
    "   If A1 > 0 and A2 < 0, Goto Level B\n",
    "   Else increase the window size\n",
    "   If window size < Smax repeat Level A\n",
    "   Else output zmed\n",
    "Level B:\n",
    "   B1 = zxy - zmin\n",
    "   B2 = zxy - zmax\n",
    "   If B1 > 0 and B2 < 0 output zxy\n",
    "   Else output zmed\n",
    "```\n",
    "\n",
    "In Stufe A wird sichergestellt, dass der Median selbst kein Minimum oder Maximum im aktuellen Fenster ist, da dies dazu führen würde, ein verrauschtes Pixel zu vervielfältigen.\n",
    "In Stufe B wird sichergestellt, dass der Median nur angewendet wird, um solche verrauschten Pixel zu eliminieren.\n",
    "\n",
    "Implementieren Sie einen adaptiven Medianfilter!\n",
    "Für stark verrauschte Bilder empfiehlt sich auch eine mehrfache Anwendung dieses Filters."
   ]
  },
  {
   "cell_type": "markdown",
   "metadata": {},
   "source": [
    "## 0. Pfade, Pakete etc."
   ]
  },
  {
   "cell_type": "code",
   "execution_count": 1,
   "metadata": {},
   "outputs": [],
   "source": [
    "import glob\n",
    "import urllib.request\n",
    "\n",
    "%matplotlib notebook\n",
    "import matplotlib.pyplot as plt\n",
    "import matplotlib.colors as mcolors\n",
    "\n",
    "import imageio\n",
    "import numpy as np\n",
    "import math"
   ]
  },
  {
   "cell_type": "code",
   "execution_count": 2,
   "metadata": {},
   "outputs": [],
   "source": [
    "image_filter = './../material/Bilder/Mars.jpg'"
   ]
  },
  {
   "cell_type": "markdown",
   "metadata": {},
   "source": [
    "## 1. Definition des Filters\n",
    "Zuerst wird die maximale Größe der Maske definiert."
   ]
  },
  {
   "cell_type": "code",
   "execution_count": 3,
   "metadata": {},
   "outputs": [],
   "source": [
    "Smax = 9"
   ]
  },
  {
   "cell_type": "markdown",
   "metadata": {},
   "source": [
    "Hier benötigen wir wieder die Funktionen `max_filter`, `min_filter`, `median_filter` aus der vorherigen Aufgabe."
   ]
  },
  {
   "cell_type": "code",
   "execution_count": 4,
   "metadata": {},
   "outputs": [],
   "source": [
    "max_filter = (lambda f: np.max(f), Smax)\n",
    "min_filter = (lambda f: np.min(f), Smax)\n",
    "median_filter = (lambda f: np.median(f), Smax)"
   ]
  },
  {
   "cell_type": "markdown",
   "metadata": {},
   "source": [
    "## 2. Laden des Bildes"
   ]
  },
  {
   "cell_type": "code",
   "execution_count": null,
   "metadata": {},
   "outputs": [],
   "source": [
    "image_path = np.random.choice(glob.glob(image_filter))\n",
    "image = imageio.imread(image_path)"
   ]
  },
  {
   "cell_type": "markdown",
   "metadata": {},
   "source": [
    "Für diese Aufgabe ist es wichtig, das Bild im Fließkommaformat vorliegen zu haben. Andernfalls kann der Median nicht immer korrekt berechet werden. Konvertieren sie `image` zu einer geeigneten Repräsentation:"
   ]
  },
  {
   "cell_type": "code",
   "execution_count": null,
   "metadata": {},
   "outputs": [],
   "source": [
    "image_max = np.float32(np.max(image))  # Maximum bestimmen\n",
    "image_min = np.float32(np.min(image))  # Minimum bestimmen\n",
    "image = (np.float32(image) - image_min) / (image_max-image_min)"
   ]
  },
  {
   "cell_type": "markdown",
   "metadata": {},
   "source": [
    "# 3. Verrauschen des Bildes\n",
    "Um ein realistisches Szenario zu simulieren, wird das Bild nun mit Salt-and-Pepper-Rauschen versehen:"
   ]
  },
  {
   "cell_type": "code",
   "execution_count": null,
   "metadata": {},
   "outputs": [],
   "source": [
    "image_noisy = np.copy(image)\n",
    "for _ in range(100):\n",
    "    index = tuple([np.random.randint(0,i) for i in image.shape])\n",
    "    image_noisy[index] = np.random.choice([0.0,1.0])"
   ]
  },
  {
   "cell_type": "markdown",
   "metadata": {},
   "source": [
    "## 4. Berechung des Filters\n",
    "Definieren Sie eine Funktion `ex4_adaptive_median_filter`, die ein Bild übergeben bekommt und als Rückgabewert das gefilterte Bild liefert. Tipp: verwenden Sie die in 1. definierten Rangordnungsoperatoren."
   ]
  },
  {
   "cell_type": "code",
   "execution_count": null,
   "metadata": {},
   "outputs": [],
   "source": [
    "def find_pixel_value(image, i, j, filter_size, increment, Smax):\n",
    "    offset = int(filter_size/2)\n",
    "    area = image[i-offset:i+offset+1, j-offset:j+offset+1]\n",
    "    zxy = image[i, j]\n",
    "    \n",
    "    zmin = min_filter[0](area.flatten())\n",
    "    zmax = max_filter[0](area.flatten())\n",
    "    zmed = median_filter[0](area.flatten())\n",
    "    \n",
    "    A1 = zmed - zmin\n",
    "    A2 = zmed - zmax\n",
    "    if (A1 > 0 and A2 < 0):\n",
    "        # level B\n",
    "        B1 = zxy - zmin\n",
    "        B2 = zxy - zmax\n",
    "        if (B1 > 0 and B2 < 0):\n",
    "            return zxy\n",
    "        else: \n",
    "            return zmed\n",
    "    else:\n",
    "        filter_size += increment\n",
    "        if (filter_size <= Smax):\n",
    "            # level A\n",
    "            return find_pixel_value(image, i, j, filter_size, increment, Smax)\n",
    "        else:\n",
    "            return zmed"
   ]
  },
  {
   "cell_type": "code",
   "execution_count": null,
   "metadata": {},
   "outputs": [],
   "source": [
    "def ex4_adaptive_median_filter(image, Smax):\n",
    "    filtered_image = np.zeros_like(image)\n",
    "\n",
    "    # pad image for maximum size of filter\n",
    "    padding_size = int(np.rint((Smax - 1) / 2))\n",
    "    padded_image = np.pad(image, ((padding_size, padding_size), (padding_size, padding_size)), mode='constant', constant_values=0)\n",
    "    \n",
    "    initial_filter_size = 5\n",
    "    increment = 2\n",
    "    \n",
    "    # start from what previously was 0,0 until the last pixel of the original image\n",
    "    for j in range(padding_size, padded_image.shape[1] - padding_size):\n",
    "        for i in range(padding_size, padded_image.shape[0] - padding_size):\n",
    "            current_value = padded_image[i, j]\n",
    "            filtered_image[i-padding_size, j-padding_size] = find_pixel_value(padded_image, i, j, initial_filter_size, increment, Smax)\n",
    "    return filtered_image"
   ]
  },
  {
   "cell_type": "markdown",
   "metadata": {},
   "source": [
    "Nun wird das gefilterte Bild mit Hilfe der Funktion berechnet:"
   ]
  },
  {
   "cell_type": "code",
   "execution_count": null,
   "metadata": {},
   "outputs": [],
   "source": [
    "filtered_image = ex4_adaptive_median_filter(image_noisy, Smax)"
   ]
  },
  {
   "cell_type": "markdown",
   "metadata": {},
   "source": [
    "## 5. Darstellung\n",
    "Um die Wirksamkeit des adaptiven Medianfilters zu überprüfen, stellen Sie `image`, `image_noisy` und `filtered_image` nebeneinander dar:"
   ]
  },
  {
   "cell_type": "code",
   "execution_count": null,
   "metadata": {},
   "outputs": [],
   "source": [
    "fig, axs = plt.subplots(nrows=1, ncols=3, sharex=True)\n",
    "axs[0].imshow(image, cmap='gray')\n",
    "axs[0].set_title('Original')\n",
    "\n",
    "axs[1].imshow(image_noisy, cmap='gray')\n",
    "axs[1].set_title('Noisy')\n",
    "\n",
    "axs[2].imshow(filtered_image, cmap='gray')\n",
    "axs[2].set_title('Filtered')"
   ]
  }
 ],
 "metadata": {
  "kernelspec": {
   "display_name": "Python 3",
   "language": "python",
   "name": "python3"
  },
  "language_info": {
   "codemirror_mode": {
    "name": "ipython",
    "version": 3
   },
   "file_extension": ".py",
   "mimetype": "text/x-python",
   "name": "python",
   "nbconvert_exporter": "python",
   "pygments_lexer": "ipython3",
   "version": "3.6.7"
  }
 },
 "nbformat": 4,
 "nbformat_minor": 2
}
