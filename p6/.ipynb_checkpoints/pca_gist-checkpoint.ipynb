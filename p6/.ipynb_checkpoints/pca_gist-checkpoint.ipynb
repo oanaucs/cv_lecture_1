{
 "cells": [
  {
   "cell_type": "code",
   "execution_count": 1,
   "metadata": {},
   "outputs": [],
   "source": [
    "import glob\n",
    "import os\n",
    "\n",
    "%matplotlib notebook\n",
    "import matplotlib.pyplot as plt\n",
    "import matplotlib.colors as mcolors\n",
    "\n",
    "import sklearn.decomposition\n",
    "\n",
    "import imageio\n",
    "import numpy as np\n",
    "import math"
   ]
  },
  {
   "cell_type": "code",
   "execution_count": 2,
   "metadata": {},
   "outputs": [],
   "source": [
    "dataset_path = './toy-dataset/'"
   ]
  },
  {
   "cell_type": "code",
   "execution_count": 3,
   "metadata": {},
   "outputs": [],
   "source": [
    "def read_pgm(f):\n",
    "    header = f.readline()\n",
    "    size = [int(i) for i in f.readline().split()]\n",
    "    depth = int(f.readline())\n",
    "    image = []\n",
    "    for i in range(size[0]):\n",
    "        row = []\n",
    "        for j in range(size[1]):\n",
    "            row.append(ord(f.read(1)))\n",
    "        image.append(row)\n",
    "    return image"
   ]
  },
  {
   "cell_type": "code",
   "execution_count": 4,
   "metadata": {},
   "outputs": [],
   "source": [
    "def ex6_load_dataset(path):\n",
    "    data = {}\n",
    "    for root, dirs, files in os.walk(dataset_path):\n",
    "        for d in dirs:\n",
    "            data.update({d: []})\n",
    "        for name in files:            \n",
    "            f = open(os.path.join(root, name), 'rb')\n",
    "            image = read_pgm(f)\n",
    "            for d in data.keys():\n",
    "                if d in name:\n",
    "                    data[d].append(np.array(image) / np.max(image))\n",
    "    for key, values in data.items():\n",
    "        data[key] = np.array(data[key])\n",
    "    return data"
   ]
  },
  {
   "cell_type": "code",
   "execution_count": 5,
   "metadata": {},
   "outputs": [],
   "source": [
    "data = ex6_load_dataset(dataset_path)"
   ]
  },
  {
   "cell_type": "code",
   "execution_count": 6,
   "metadata": {},
   "outputs": [],
   "source": [
    "def ex6_split_dataset(data, test_fraction):\n",
    "    training_data = []\n",
    "    test_data = []\n",
    "    \n",
    "    for key, values in data.items():\n",
    "        test_size = int(values.shape[0] * test_fraction)\n",
    "        train_size = values.shape[0] - test_size\n",
    "        \n",
    "        for i in range(0, train_size):\n",
    "            np.random.shuffle(data[key])\n",
    "            idx = np.random.randint(0, data[key].shape[0], 1)\n",
    "            training_data.append((data[key][idx], key))\n",
    "            data[key] = np.delete(data[key], idx, axis=0)\n",
    "            \n",
    "        for i in range(0, test_size):\n",
    "            np.random.shuffle(data[key])\n",
    "            idx = np.random.randint(0, data[key].shape[0], 1)\n",
    "            test_data.append((data[key][idx], key))\n",
    "            data[key] = np.delete(data[key], idx, axis=0)\n",
    "    \n",
    "    \n",
    "    return np.array(training_data), np.array(test_data)"
   ]
  },
  {
   "cell_type": "code",
   "execution_count": 7,
   "metadata": {},
   "outputs": [],
   "source": [
    "train, test = ex6_split_dataset(data, 0.5)"
   ]
  },
  {
   "cell_type": "code",
   "execution_count": 9,
   "metadata": {},
   "outputs": [],
   "source": [
    "def ex6_feature_extraction_simple(training_data, test_data):\n",
    "    training_features = []\n",
    "    test_features = []\n",
    "    \n",
    "    for sample in training_data:\n",
    "        training_features.append((np.array(sample[0]).flatten(), sample[1]))\n",
    "                                \n",
    "    for sample in test_data:\n",
    "        test_features.append((np.array(sample[0]).flatten(), sample[1]))\n",
    "    \n",
    "    return np.array(training_features), np.array(test_features)"
   ]
  },
  {
   "cell_type": "code",
   "execution_count": 10,
   "metadata": {},
   "outputs": [],
   "source": [
    "simple_train, simple_test = ex6_feature_extraction_simple(train, test)"
   ]
  },
  {
   "cell_type": "code",
   "execution_count": 11,
   "metadata": {},
   "outputs": [],
   "source": [
    "def ex6_feature_extraction_pca(training_data, test_data, k=5):\n",
    "    training_data_matrix = []\n",
    "    # matrix of shape n x p\n",
    "    for i in range(0, training_data.shape[0]):\n",
    "        feature_vec = np.array(training_data[i][0].flatten())\n",
    "        training_data_matrix.append(feature_vec)\n",
    "    training_data_matrix = np.array(training_data_matrix)\n",
    "    training_data_matrix = np.transpose(training_data_matrix)\n",
    "    \n",
    "    # mean of shape p x 1\n",
    "    mean = np.mean(training_data_matrix, axis=0)\n",
    "    training_data_matrix -= mean\n",
    "    \n",
    "    # cov matrix of shape p x p\n",
    "    cov_matrix = np.cov(training_data_matrix)\n",
    "    \n",
    "    # diagonal matrix eig_vec of shape p x p\n",
    "    eig_val, eig_vec = np.linalg.eig(cov_matrix)\n",
    "    \n",
    "    eig = list(zip(eig_val, eig_vec))\n",
    "    eig = sorted(eig,  key=lambda x: x[0])\n",
    "\n",
    "    # create matrix of shape p x k\n",
    "    a = []\n",
    "    for i in range(0, k):\n",
    "        a.append(eig[i][1])\n",
    "    a = np.transpose(np.array(a))\n",
    "        \n",
    "    # project training data\n",
    "    proj_train_features = np.dot(np.transpose(a), training_data_matrix)\n",
    "    \n",
    "    test_data_matrix = []\n",
    "    for i in range(0, test_data.shape[0]):\n",
    "        test_feature_vec = np.array(test_data[i][0].flatten())\n",
    "        test_data_matrix.append(test_feature_vec)\n",
    "    test_data_matrix = np.array(test_data_matrix)\n",
    "    test_data_matrix = np.transpose(test_data_matrix)\n",
    "    \n",
    "    proj_test_features = np.dot(np.transpose(a), test_data_matrix)\n",
    "\n",
    "    return proj_train_features, proj_test_features"
   ]
  },
  {
   "cell_type": "code",
   "execution_count": 12,
   "metadata": {},
   "outputs": [],
   "source": [
    "pca_train, pca_test = ex6_feature_extraction_pca(train, test)"
   ]
  }
 ],
 "metadata": {
  "kernelspec": {
   "display_name": "Python 3",
   "language": "python",
   "name": "python3"
  },
  "language_info": {
   "codemirror_mode": {
    "name": "ipython",
    "version": 3
   },
   "file_extension": ".py",
   "mimetype": "text/x-python",
   "name": "python",
   "nbconvert_exporter": "python",
   "pygments_lexer": "ipython3",
   "version": "3.6.7"
  }
 },
 "nbformat": 4,
 "nbformat_minor": 2
}
